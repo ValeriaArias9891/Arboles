{
 "cells": [
  {
   "cell_type": "code",
   "execution_count": 50,
   "id": "82f11ae5",
   "metadata": {},
   "outputs": [],
   "source": [
    "import matplotlib.pyplot as plt\n",
    "import seaborn as sns\n",
    "import numpy as np\n",
    "import pandas as pd\n",
    "from sklearn.model_selection import train_test_split\n",
    "from sklearn.tree import DecisionTreeClassifier, plot_tree\n",
    "from sklearn.metrics import accuracy_score"
   ]
  },
  {
   "cell_type": "code",
   "execution_count": 51,
   "id": "243c931b",
   "metadata": {},
   "outputs": [],
   "source": [
    "df = pd.read_csv('diabetes.csv')"
   ]
  },
  {
   "cell_type": "code",
   "execution_count": 52,
   "id": "52d8acae",
   "metadata": {},
   "outputs": [
    {
     "data": {
      "text/html": [
       "<div>\n",
       "<style scoped>\n",
       "    .dataframe tbody tr th:only-of-type {\n",
       "        vertical-align: middle;\n",
       "    }\n",
       "\n",
       "    .dataframe tbody tr th {\n",
       "        vertical-align: top;\n",
       "    }\n",
       "\n",
       "    .dataframe thead th {\n",
       "        text-align: right;\n",
       "    }\n",
       "</style>\n",
       "<table border=\"1\" class=\"dataframe\">\n",
       "  <thead>\n",
       "    <tr style=\"text-align: right;\">\n",
       "      <th></th>\n",
       "      <th>Pregnancies</th>\n",
       "      <th>Glucose</th>\n",
       "      <th>BloodPressure</th>\n",
       "      <th>SkinThickness</th>\n",
       "      <th>Insulin</th>\n",
       "      <th>BMI</th>\n",
       "      <th>DiabetesPedigreeFunction</th>\n",
       "      <th>Age</th>\n",
       "      <th>Outcome</th>\n",
       "    </tr>\n",
       "  </thead>\n",
       "  <tbody>\n",
       "    <tr>\n",
       "      <th>0</th>\n",
       "      <td>6</td>\n",
       "      <td>148</td>\n",
       "      <td>72</td>\n",
       "      <td>35</td>\n",
       "      <td>0</td>\n",
       "      <td>33.6</td>\n",
       "      <td>0.627</td>\n",
       "      <td>50</td>\n",
       "      <td>1</td>\n",
       "    </tr>\n",
       "    <tr>\n",
       "      <th>1</th>\n",
       "      <td>1</td>\n",
       "      <td>85</td>\n",
       "      <td>66</td>\n",
       "      <td>29</td>\n",
       "      <td>0</td>\n",
       "      <td>26.6</td>\n",
       "      <td>0.351</td>\n",
       "      <td>31</td>\n",
       "      <td>0</td>\n",
       "    </tr>\n",
       "    <tr>\n",
       "      <th>2</th>\n",
       "      <td>8</td>\n",
       "      <td>183</td>\n",
       "      <td>64</td>\n",
       "      <td>0</td>\n",
       "      <td>0</td>\n",
       "      <td>23.3</td>\n",
       "      <td>0.672</td>\n",
       "      <td>32</td>\n",
       "      <td>1</td>\n",
       "    </tr>\n",
       "    <tr>\n",
       "      <th>3</th>\n",
       "      <td>1</td>\n",
       "      <td>89</td>\n",
       "      <td>66</td>\n",
       "      <td>23</td>\n",
       "      <td>94</td>\n",
       "      <td>28.1</td>\n",
       "      <td>0.167</td>\n",
       "      <td>21</td>\n",
       "      <td>0</td>\n",
       "    </tr>\n",
       "    <tr>\n",
       "      <th>4</th>\n",
       "      <td>0</td>\n",
       "      <td>137</td>\n",
       "      <td>40</td>\n",
       "      <td>35</td>\n",
       "      <td>168</td>\n",
       "      <td>43.1</td>\n",
       "      <td>2.288</td>\n",
       "      <td>33</td>\n",
       "      <td>1</td>\n",
       "    </tr>\n",
       "  </tbody>\n",
       "</table>\n",
       "</div>"
      ],
      "text/plain": [
       "   Pregnancies  Glucose  BloodPressure  SkinThickness  Insulin   BMI  \\\n",
       "0            6      148             72             35        0  33.6   \n",
       "1            1       85             66             29        0  26.6   \n",
       "2            8      183             64              0        0  23.3   \n",
       "3            1       89             66             23       94  28.1   \n",
       "4            0      137             40             35      168  43.1   \n",
       "\n",
       "   DiabetesPedigreeFunction  Age  Outcome  \n",
       "0                     0.627   50        1  \n",
       "1                     0.351   31        0  \n",
       "2                     0.672   32        1  \n",
       "3                     0.167   21        0  \n",
       "4                     2.288   33        1  "
      ]
     },
     "execution_count": 52,
     "metadata": {},
     "output_type": "execute_result"
    }
   ],
   "source": [
    "df.head()"
   ]
  },
  {
   "cell_type": "code",
   "execution_count": 53,
   "id": "417ff665",
   "metadata": {},
   "outputs": [
    {
     "data": {
      "text/plain": [
       "(768, 9)"
      ]
     },
     "execution_count": 53,
     "metadata": {},
     "output_type": "execute_result"
    }
   ],
   "source": [
    "df.shape"
   ]
  },
  {
   "cell_type": "code",
   "execution_count": 54,
   "id": "eeca0b7d",
   "metadata": {},
   "outputs": [
    {
     "data": {
      "text/plain": [
       "(array([500.,   0.,   0.,   0.,   0.,   0.,   0.,   0.,   0., 268.]),\n",
       " array([0. , 0.1, 0.2, 0.3, 0.4, 0.5, 0.6, 0.7, 0.8, 0.9, 1. ]),\n",
       " <BarContainer object of 10 artists>)"
      ]
     },
     "execution_count": 54,
     "metadata": {},
     "output_type": "execute_result"
    },
    {
     "data": {
      "image/png": "[encoded data removed]",
      "text/plain": [
       "<Figure size 640x480 with 1 Axes>"
      ]
     },
     "metadata": {},
     "output_type": "display_data"
    }
   ],
   "source": [
    "plt.hist(df.Outcome)"
   ]
  },
  {
   "cell_type": "code",
   "execution_count": 55,
   "id": "8a4a0907",
   "metadata": {},
   "outputs": [],
   "source": [
    "predictors_col = [\"Glucose\",\"Insulin\", \"BMI\", \"Age\"]\n",
    "target_col = [\"Outcome\"]"
   ]
  },
  {
   "cell_type": "code",
   "execution_count": 56,
   "id": "76c372b7",
   "metadata": {},
   "outputs": [],
   "source": [
    "predictors = df[predictors_col]\n",
    "target= df[target_col]"
   ]
  },
  {
   "cell_type": "code",
   "execution_count": 57,
   "id": "75722f3f",
   "metadata": {},
   "outputs": [],
   "source": [
    "X_train, X_test, y_train, y_test = train_test_split(predictors, target, test_size= 0.25, random_state = 13)"
   ]
  },
  {
   "cell_type": "code",
   "execution_count": 58,
   "id": "83ad87f9",
   "metadata": {},
   "outputs": [],
   "source": [
    "tree = DecisionTreeClassifier()"
   ]
  },
  {
   "cell_type": "code",
   "execution_count": 59,
   "id": "d768b280",
   "metadata": {},
   "outputs": [],
   "source": [
    "arbol = tree.fit(X_train, y_train)"
   ]
  },
  {
   "cell_type": "code",
   "execution_count": 60,
   "id": "8df52abd",
   "metadata": {},
   "outputs": [
    {
     "data": {
      "text/plain": [
       "[Text(0.44699150219298245, 0.9666666666666667, 'x[0] <= 123.5\\ngini = 0.451\\nsamples = 576\\nvalue = [378, 198]'),\n",
       " Text(0.1289747807017544, 0.9, 'x[3] <= 28.5\\ngini = 0.282\\nsamples = 341\\nvalue = [283, 58]'),\n",
       " Text(0.05921052631578947, 0.8333333333333334, 'x[2] <= 45.4\\ngini = 0.132\\nsamples = 197\\nvalue = [183, 14]'),\n",
       " Text(0.05043859649122807, 0.7666666666666667, 'x[2] <= 30.95\\ngini = 0.107\\nsamples = 194\\nvalue = [183, 11]'),\n",
       " Text(0.017543859649122806, 0.7, 'x[0] <= 106.5\\ngini = 0.017\\nsamples = 115\\nvalue = [114, 1]'),\n",
       " Text(0.008771929824561403, 0.6333333333333333, 'gini = 0.0\\nsamples = 85\\nvalue = [85, 0]'),\n",
       " Text(0.02631578947368421, 0.6333333333333333, 'x[2] <= 23.0\\ngini = 0.064\\nsamples = 30\\nvalue = [29, 1]'),\n",
       " Text(0.017543859649122806, 0.5666666666666667, 'x[0] <= 109.0\\ngini = 0.375\\nsamples = 4\\nvalue = [3, 1]'),\n",
       " Text(0.008771929824561403, 0.5, 'gini = 0.0\\nsamples = 1\\nvalue = [0, 1]'),\n",
       " Text(0.02631578947368421, 0.5, 'gini = 0.0\\nsamples = 3\\nvalue = [3, 0]'),\n",
       " Text(0.03508771929824561, 0.5666666666666667, 'gini = 0.0\\nsamples = 26\\nvalue = [26, 0]'),\n",
       " Text(0.08333333333333333, 0.7, 'x[2] <= 31.3\\ngini = 0.221\\nsamples = 79\\nvalue = [69, 10]'),\n",
       " Text(0.07456140350877193, 0.6333333333333333, 'gini = 0.0\\nsamples = 1\\nvalue = [0, 1]'),\n",
       " Text(0.09210526315789473, 0.6333333333333333, 'x[1] <= 38.0\\ngini = 0.204\\nsamples = 78\\nvalue = [69, 9]'),\n",
       " Text(0.06140350877192982, 0.5666666666666667, 'x[0] <= 111.5\\ngini = 0.358\\nsamples = 30\\nvalue = [23, 7]'),\n",
       " Text(0.043859649122807015, 0.5, 'x[1] <= 34.0\\ngini = 0.165\\nsamples = 22\\nvalue = [20, 2]'),\n",
       " Text(0.03508771929824561, 0.43333333333333335, 'x[2] <= 37.85\\ngini = 0.091\\nsamples = 21\\nvalue = [20, 1]'),\n",
       " Text(0.02631578947368421, 0.36666666666666664, 'gini = 0.0\\nsamples = 16\\nvalue = [16, 0]'),\n",
       " Text(0.043859649122807015, 0.36666666666666664, 'x[2] <= 38.9\\ngini = 0.32\\nsamples = 5\\nvalue = [4, 1]'),\n",
       " Text(0.03508771929824561, 0.3, 'gini = 0.0\\nsamples = 1\\nvalue = [0, 1]'),\n",
       " Text(0.05263157894736842, 0.3, 'gini = 0.0\\nsamples = 4\\nvalue = [4, 0]'),\n",
       " Text(0.05263157894736842, 0.43333333333333335, 'gini = 0.0\\nsamples = 1\\nvalue = [0, 1]'),\n",
       " Text(0.07894736842105263, 0.5, 'x[2] <= 34.65\\ngini = 0.469\\nsamples = 8\\nvalue = [3, 5]'),\n",
       " Text(0.07017543859649122, 0.43333333333333335, 'gini = 0.0\\nsamples = 3\\nvalue = [0, 3]'),\n",
       " Text(0.08771929824561403, 0.43333333333333335, 'x[2] <= 40.85\\ngini = 0.48\\nsamples = 5\\nvalue = [3, 2]'),\n",
       " Text(0.07894736842105263, 0.36666666666666664, 'x[3] <= 23.5\\ngini = 0.375\\nsamples = 4\\nvalue = [3, 1]'),\n",
       " Text(0.07017543859649122, 0.3, 'gini = 0.0\\nsamples = 2\\nvalue = [2, 0]'),\n",
       " Text(0.08771929824561403, 0.3, 'x[3] <= 26.0\\ngini = 0.5\\nsamples = 2\\nvalue = [1, 1]'),\n",
       " Text(0.07894736842105263, 0.23333333333333334, 'gini = 0.0\\nsamples = 1\\nvalue = [0, 1]'),\n",
       " Text(0.09649122807017543, 0.23333333333333334, 'gini = 0.0\\nsamples = 1\\nvalue = [1, 0]'),\n",
       " Text(0.09649122807017543, 0.36666666666666664, 'gini = 0.0\\nsamples = 1\\nvalue = [0, 1]'),\n",
       " Text(0.12280701754385964, 0.5666666666666667, 'x[2] <= 34.85\\ngini = 0.08\\nsamples = 48\\nvalue = [46, 2]'),\n",
       " Text(0.11403508771929824, 0.5, 'x[2] <= 34.15\\ngini = 0.245\\nsamples = 14\\nvalue = [12, 2]'),\n",
       " Text(0.10526315789473684, 0.43333333333333335, 'gini = 0.0\\nsamples = 10\\nvalue = [10, 0]'),\n",
       " Text(0.12280701754385964, 0.43333333333333335, 'x[3] <= 25.0\\ngini = 0.5\\nsamples = 4\\nvalue = [2, 2]'),\n",
       " Text(0.11403508771929824, 0.36666666666666664, 'gini = 0.0\\nsamples = 2\\nvalue = [2, 0]'),\n",
       " Text(0.13157894736842105, 0.36666666666666664, 'gini = 0.0\\nsamples = 2\\nvalue = [0, 2]'),\n",
       " Text(0.13157894736842105, 0.5, 'gini = 0.0\\nsamples = 34\\nvalue = [34, 0]'),\n",
       " Text(0.06798245614035088, 0.7666666666666667, 'gini = 0.0\\nsamples = 3\\nvalue = [0, 3]'),\n",
       " Text(0.19873903508771928, 0.8333333333333334, 'x[2] <= 26.35\\ngini = 0.424\\nsamples = 144\\nvalue = [100, 44]'),\n",
       " Text(0.13157894736842105, 0.7666666666666667, 'x[2] <= 9.65\\ngini = 0.069\\nsamples = 28\\nvalue = [27, 1]'),\n",
       " Text(0.12280701754385964, 0.7, 'gini = 0.0\\nsamples = 1\\nvalue = [0, 1]'),\n",
       " Text(0.14035087719298245, 0.7, 'gini = 0.0\\nsamples = 27\\nvalue = [27, 0]'),\n",
       " Text(0.26589912280701755, 0.7666666666666667, 'x[0] <= 94.5\\ngini = 0.467\\nsamples = 116\\nvalue = [73, 43]'),\n",
       " Text(0.15789473684210525, 0.7, 'x[0] <= 28.5\\ngini = 0.225\\nsamples = 31\\nvalue = [27, 4]'),\n",
       " Text(0.14912280701754385, 0.6333333333333333, 'gini = 0.0\\nsamples = 2\\nvalue = [0, 2]'),\n",
       " Text(0.16666666666666666, 0.6333333333333333, 'x[1] <= 171.5\\ngini = 0.128\\nsamples = 29\\nvalue = [27, 2]'),\n",
       " Text(0.15789473684210525, 0.5666666666666667, 'x[3] <= 52.0\\ngini = 0.069\\nsamples = 28\\nvalue = [27, 1]'),\n",
       " Text(0.14912280701754385, 0.5, 'gini = 0.0\\nsamples = 26\\nvalue = [26, 0]'),\n",
       " Text(0.16666666666666666, 0.5, 'x[3] <= 62.0\\ngini = 0.5\\nsamples = 2\\nvalue = [1, 1]'),\n",
       " Text(0.15789473684210525, 0.43333333333333335, 'gini = 0.0\\nsamples = 1\\nvalue = [0, 1]'),\n",
       " Text(0.17543859649122806, 0.43333333333333335, 'gini = 0.0\\nsamples = 1\\nvalue = [1, 0]'),\n",
       " Text(0.17543859649122806, 0.5666666666666667, 'gini = 0.0\\nsamples = 1\\nvalue = [0, 1]'),\n",
       " Text(0.37390350877192985, 0.7, 'x[3] <= 56.5\\ngini = 0.497\\nsamples = 85\\nvalue = [46, 39]'),\n",
       " Text(0.3651315789473684, 0.6333333333333333, 'x[0] <= 119.5\\ngini = 0.5\\nsamples = 80\\nvalue = [41, 39]'),\n",
       " Text(0.28289473684210525, 0.5666666666666667, 'x[0] <= 106.5\\ngini = 0.498\\nsamples = 64\\nvalue = [30, 34]'),\n",
       " Text(0.22587719298245615, 0.5, 'x[0] <= 97.5\\ngini = 0.484\\nsamples = 34\\nvalue = [20, 14]'),\n",
       " Text(0.19298245614035087, 0.43333333333333335, 'x[2] <= 36.45\\ngini = 0.32\\nsamples = 5\\nvalue = [1, 4]'),\n",
       " Text(0.18421052631578946, 0.36666666666666664, 'gini = 0.0\\nsamples = 3\\nvalue = [0, 3]'),\n",
       " Text(0.20175438596491227, 0.36666666666666664, 'x[1] <= 45.5\\ngini = 0.5\\nsamples = 2\\nvalue = [1, 1]'),\n",
       " Text(0.19298245614035087, 0.3, 'gini = 0.0\\nsamples = 1\\nvalue = [1, 0]'),\n",
       " Text(0.21052631578947367, 0.3, 'gini = 0.0\\nsamples = 1\\nvalue = [0, 1]'),\n",
       " Text(0.25877192982456143, 0.43333333333333335, 'x[3] <= 41.5\\ngini = 0.452\\nsamples = 29\\nvalue = [19, 10]'),\n",
       " Text(0.23684210526315788, 0.36666666666666664, 'x[0] <= 99.5\\ngini = 0.498\\nsamples = 15\\nvalue = [7, 8]'),\n",
       " Text(0.22807017543859648, 0.3, 'gini = 0.0\\nsamples = 3\\nvalue = [3, 0]'),\n",
       " Text(0.24561403508771928, 0.3, 'x[0] <= 104.5\\ngini = 0.444\\nsamples = 12\\nvalue = [4, 8]'),\n",
       " Text(0.22807017543859648, 0.23333333333333334, 'x[2] <= 46.2\\ngini = 0.245\\nsamples = 7\\nvalue = [1, 6]'),\n",
       " Text(0.21929824561403508, 0.16666666666666666, 'gini = 0.0\\nsamples = 6\\nvalue = [0, 6]'),\n",
       " Text(0.23684210526315788, 0.16666666666666666, 'gini = 0.0\\nsamples = 1\\nvalue = [1, 0]'),\n",
       " Text(0.2631578947368421, 0.23333333333333334, 'x[3] <= 31.5\\ngini = 0.48\\nsamples = 5\\nvalue = [3, 2]'),\n",
       " Text(0.2543859649122807, 0.16666666666666666, 'gini = 0.0\\nsamples = 2\\nvalue = [0, 2]'),\n",
       " Text(0.2719298245614035, 0.16666666666666666, 'gini = 0.0\\nsamples = 3\\nvalue = [3, 0]'),\n",
       " Text(0.2807017543859649, 0.36666666666666664, 'x[2] <= 39.05\\ngini = 0.245\\nsamples = 14\\nvalue = [12, 2]'),\n",
       " Text(0.2719298245614035, 0.3, 'gini = 0.0\\nsamples = 11\\nvalue = [11, 0]'),\n",
       " Text(0.2894736842105263, 0.3, 'x[3] <= 42.5\\ngini = 0.444\\nsamples = 3\\nvalue = [1, 2]'),\n",
       " Text(0.2807017543859649, 0.23333333333333334, 'gini = 0.0\\nsamples = 1\\nvalue = [1, 0]'),\n",
       " Text(0.2982456140350877, 0.23333333333333334, 'gini = 0.0\\nsamples = 2\\nvalue = [0, 2]'),\n",
       " Text(0.3399122807017544, 0.5, 'x[3] <= 30.5\\ngini = 0.444\\nsamples = 30\\nvalue = [10, 20]'),\n",
       " Text(0.3157894736842105, 0.43333333333333335, 'x[0] <= 118.0\\ngini = 0.32\\nsamples = 5\\nvalue = [4, 1]'),\n",
       " Text(0.30701754385964913, 0.36666666666666664, 'gini = 0.0\\nsamples = 4\\nvalue = [4, 0]'),\n",
       " Text(0.32456140350877194, 0.36666666666666664, 'gini = 0.0\\nsamples = 1\\nvalue = [0, 1]'),\n",
       " Text(0.36403508771929827, 0.43333333333333335, 'x[2] <= 38.1\\ngini = 0.365\\nsamples = 25\\nvalue = [6, 19]'),\n",
       " Text(0.34210526315789475, 0.36666666666666664, 'x[3] <= 43.5\\ngini = 0.245\\nsamples = 21\\nvalue = [3, 18]'),\n",
       " Text(0.32456140350877194, 0.3, 'x[2] <= 27.4\\ngini = 0.133\\nsamples = 14\\nvalue = [1, 13]'),\n",
       " Text(0.3157894736842105, 0.23333333333333334, 'x[1] <= 88.0\\ngini = 0.5\\nsamples = 2\\nvalue = [1, 1]'),\n",
       " Text(0.30701754385964913, 0.16666666666666666, 'gini = 0.0\\nsamples = 1\\nvalue = [1, 0]'),\n",
       " Text(0.32456140350877194, 0.16666666666666666, 'gini = 0.0\\nsamples = 1\\nvalue = [0, 1]'),\n",
       " Text(0.3333333333333333, 0.23333333333333334, 'gini = 0.0\\nsamples = 12\\nvalue = [0, 12]'),\n",
       " Text(0.35964912280701755, 0.3, 'x[2] <= 32.0\\ngini = 0.408\\nsamples = 7\\nvalue = [2, 5]'),\n",
       " Text(0.3508771929824561, 0.23333333333333334, 'gini = 0.0\\nsamples = 4\\nvalue = [0, 4]'),\n",
       " Text(0.3684210526315789, 0.23333333333333334, 'x[3] <= 50.5\\ngini = 0.444\\nsamples = 3\\nvalue = [2, 1]'),\n",
       " Text(0.35964912280701755, 0.16666666666666666, 'gini = 0.0\\nsamples = 2\\nvalue = [2, 0]'),\n",
       " Text(0.37719298245614036, 0.16666666666666666, 'gini = 0.0\\nsamples = 1\\nvalue = [0, 1]'),\n",
       " Text(0.38596491228070173, 0.36666666666666664, 'x[2] <= 44.25\\ngini = 0.375\\nsamples = 4\\nvalue = [3, 1]'),\n",
       " Text(0.37719298245614036, 0.3, 'gini = 0.0\\nsamples = 3\\nvalue = [3, 0]'),\n",
       " Text(0.39473684210526316, 0.3, 'gini = 0.0\\nsamples = 1\\nvalue = [0, 1]'),\n",
       " Text(0.4473684210526316, 0.5666666666666667, 'x[3] <= 46.5\\ngini = 0.43\\nsamples = 16\\nvalue = [11, 5]'),\n",
       " Text(0.43859649122807015, 0.5, 'x[3] <= 39.0\\ngini = 0.337\\nsamples = 14\\nvalue = [11, 3]'),\n",
       " Text(0.4298245614035088, 0.43333333333333335, 'x[3] <= 36.0\\ngini = 0.42\\nsamples = 10\\nvalue = [7, 3]'),\n",
       " Text(0.42105263157894735, 0.36666666666666664, 'x[0] <= 121.0\\ngini = 0.346\\nsamples = 9\\nvalue = [7, 2]'),\n",
       " Text(0.41228070175438597, 0.3, 'gini = 0.0\\nsamples = 3\\nvalue = [3, 0]'),\n",
       " Text(0.4298245614035088, 0.3, 'x[0] <= 122.5\\ngini = 0.444\\nsamples = 6\\nvalue = [4, 2]'),\n",
       " Text(0.42105263157894735, 0.23333333333333334, 'x[1] <= 78.0\\ngini = 0.444\\nsamples = 3\\nvalue = [1, 2]'),\n",
       " Text(0.41228070175438597, 0.16666666666666666, 'x[2] <= 34.0\\ngini = 0.5\\nsamples = 2\\nvalue = [1, 1]'),\n",
       " Text(0.40350877192982454, 0.1, 'gini = 0.0\\nsamples = 1\\nvalue = [0, 1]'),\n",
       " Text(0.42105263157894735, 0.1, 'gini = 0.0\\nsamples = 1\\nvalue = [1, 0]'),\n",
       " Text(0.4298245614035088, 0.16666666666666666, 'gini = 0.0\\nsamples = 1\\nvalue = [0, 1]'),\n",
       " Text(0.43859649122807015, 0.23333333333333334, 'gini = 0.0\\nsamples = 3\\nvalue = [3, 0]'),\n",
       " Text(0.43859649122807015, 0.36666666666666664, 'gini = 0.0\\nsamples = 1\\nvalue = [0, 1]'),\n",
       " Text(0.4473684210526316, 0.43333333333333335, 'gini = 0.0\\nsamples = 4\\nvalue = [4, 0]'),\n",
       " Text(0.45614035087719296, 0.5, 'gini = 0.0\\nsamples = 2\\nvalue = [0, 2]'),\n",
       " Text(0.3826754385964912, 0.6333333333333333, 'gini = 0.0\\nsamples = 5\\nvalue = [5, 0]'),\n",
       " Text(0.7650082236842105, 0.9, 'x[0] <= 157.5\\ngini = 0.482\\nsamples = 235\\nvalue = [95, 140]'),\n",
       " Text(0.6254111842105263, 0.8333333333333334, 'x[2] <= 26.15\\ngini = 0.499\\nsamples = 154\\nvalue = [81, 73]'),\n",
       " Text(0.506578947368421, 0.7666666666666667, 'x[1] <= 30.0\\ngini = 0.245\\nsamples = 21\\nvalue = [18, 3]'),\n",
       " Text(0.49780701754385964, 0.7, 'x[3] <= 45.5\\ngini = 0.397\\nsamples = 11\\nvalue = [8, 3]'),\n",
       " Text(0.48026315789473684, 0.6333333333333333, 'x[2] <= 25.15\\ngini = 0.245\\nsamples = 7\\nvalue = [6, 1]'),\n",
       " Text(0.47149122807017546, 0.5666666666666667, 'gini = 0.0\\nsamples = 5\\nvalue = [5, 0]'),\n",
       " Text(0.48903508771929827, 0.5666666666666667, 'x[3] <= 25.5\\ngini = 0.5\\nsamples = 2\\nvalue = [1, 1]'),\n",
       " Text(0.48026315789473684, 0.5, 'gini = 0.0\\nsamples = 1\\nvalue = [0, 1]'),\n",
       " Text(0.49780701754385964, 0.5, 'gini = 0.0\\nsamples = 1\\nvalue = [1, 0]'),\n",
       " Text(0.5153508771929824, 0.6333333333333333, 'x[0] <= 135.0\\ngini = 0.5\\nsamples = 4\\nvalue = [2, 2]'),\n",
       " Text(0.506578947368421, 0.5666666666666667, 'gini = 0.0\\nsamples = 2\\nvalue = [0, 2]'),\n",
       " Text(0.5241228070175439, 0.5666666666666667, 'gini = 0.0\\nsamples = 2\\nvalue = [2, 0]'),\n",
       " Text(0.5153508771929824, 0.7, 'gini = 0.0\\nsamples = 10\\nvalue = [10, 0]'),\n",
       " Text(0.7442434210526315, 0.7666666666666667, 'x[2] <= 42.85\\ngini = 0.499\\nsamples = 133\\nvalue = [63, 70]'),\n",
       " Text(0.6814692982456141, 0.7, 'x[3] <= 40.5\\ngini = 0.5\\nsamples = 120\\nvalue = [61, 59]'),\n",
       " Text(0.6129385964912281, 0.6333333333333333, 'x[1] <= 137.5\\ngini = 0.479\\nsamples = 78\\nvalue = [47, 31]'),\n",
       " Text(0.5416666666666666, 0.5666666666666667, 'x[1] <= 128.0\\ngini = 0.5\\nsamples = 47\\nvalue = [23, 24]'),\n",
       " Text(0.5328947368421053, 0.5, 'x[0] <= 136.5\\ngini = 0.498\\nsamples = 43\\nvalue = [23, 20]'),\n",
       " Text(0.4868421052631579, 0.43333333333333335, 'x[0] <= 128.5\\ngini = 0.463\\nsamples = 22\\nvalue = [8, 14]'),\n",
       " Text(0.45614035087719296, 0.36666666666666664, 'x[3] <= 25.5\\ngini = 0.48\\nsamples = 10\\nvalue = [6, 4]'),\n",
       " Text(0.4473684210526316, 0.3, 'gini = 0.0\\nsamples = 4\\nvalue = [4, 0]'),\n",
       " Text(0.4649122807017544, 0.3, 'x[2] <= 31.0\\ngini = 0.444\\nsamples = 6\\nvalue = [2, 4]'),\n",
       " Text(0.45614035087719296, 0.23333333333333334, 'x[1] <= 11.0\\ngini = 0.444\\nsamples = 3\\nvalue = [2, 1]'),\n",
       " Text(0.4473684210526316, 0.16666666666666666, 'gini = 0.0\\nsamples = 1\\nvalue = [0, 1]'),\n",
       " Text(0.4649122807017544, 0.16666666666666666, 'gini = 0.0\\nsamples = 2\\nvalue = [2, 0]'),\n",
       " Text(0.47368421052631576, 0.23333333333333334, 'gini = 0.0\\nsamples = 3\\nvalue = [0, 3]'),\n",
       " Text(0.5175438596491229, 0.36666666666666664, 'x[2] <= 39.65\\ngini = 0.278\\nsamples = 12\\nvalue = [2, 10]'),\n",
       " Text(0.5, 0.3, 'x[0] <= 129.5\\ngini = 0.18\\nsamples = 10\\nvalue = [1, 9]'),\n",
       " Text(0.49122807017543857, 0.23333333333333334, 'x[1] <= 57.5\\ngini = 0.5\\nsamples = 2\\nvalue = [1, 1]'),\n",
       " Text(0.4824561403508772, 0.16666666666666666, 'gini = 0.0\\nsamples = 1\\nvalue = [1, 0]'),\n",
       " Text(0.5, 0.16666666666666666, 'gini = 0.0\\nsamples = 1\\nvalue = [0, 1]'),\n",
       " Text(0.5087719298245614, 0.23333333333333334, 'gini = 0.0\\nsamples = 8\\nvalue = [0, 8]'),\n",
       " Text(0.5350877192982456, 0.3, 'x[2] <= 40.7\\ngini = 0.5\\nsamples = 2\\nvalue = [1, 1]'),\n",
       " Text(0.5263157894736842, 0.23333333333333334, 'gini = 0.0\\nsamples = 1\\nvalue = [1, 0]'),\n",
       " Text(0.543859649122807, 0.23333333333333334, 'gini = 0.0\\nsamples = 1\\nvalue = [0, 1]'),\n",
       " Text(0.5789473684210527, 0.43333333333333335, 'x[2] <= 27.55\\ngini = 0.408\\nsamples = 21\\nvalue = [15, 6]'),\n",
       " Text(0.5701754385964912, 0.36666666666666664, 'gini = 0.0\\nsamples = 2\\nvalue = [0, 2]'),\n",
       " Text(0.5877192982456141, 0.36666666666666664, 'x[2] <= 35.9\\ngini = 0.332\\nsamples = 19\\nvalue = [15, 4]'),\n",
       " Text(0.5701754385964912, 0.3, 'x[2] <= 30.6\\ngini = 0.142\\nsamples = 13\\nvalue = [12, 1]'),\n",
       " Text(0.5614035087719298, 0.23333333333333334, 'x[2] <= 29.85\\ngini = 0.32\\nsamples = 5\\nvalue = [4, 1]'),\n",
       " Text(0.5526315789473685, 0.16666666666666666, 'gini = 0.0\\nsamples = 4\\nvalue = [4, 0]'),\n",
       " Text(0.5701754385964912, 0.16666666666666666, 'gini = 0.0\\nsamples = 1\\nvalue = [0, 1]'),\n",
       " Text(0.5789473684210527, 0.23333333333333334, 'gini = 0.0\\nsamples = 8\\nvalue = [8, 0]'),\n",
       " Text(0.6052631578947368, 0.3, 'x[2] <= 39.0\\ngini = 0.5\\nsamples = 6\\nvalue = [3, 3]'),\n",
       " Text(0.5964912280701754, 0.23333333333333334, 'gini = 0.0\\nsamples = 2\\nvalue = [0, 2]'),\n",
       " Text(0.6140350877192983, 0.23333333333333334, 'x[0] <= 149.0\\ngini = 0.375\\nsamples = 4\\nvalue = [3, 1]'),\n",
       " Text(0.6052631578947368, 0.16666666666666666, 'gini = 0.0\\nsamples = 3\\nvalue = [3, 0]'),\n",
       " Text(0.6228070175438597, 0.16666666666666666, 'gini = 0.0\\nsamples = 1\\nvalue = [0, 1]'),\n",
       " Text(0.5504385964912281, 0.5, 'gini = 0.0\\nsamples = 4\\nvalue = [0, 4]'),\n",
       " Text(0.6842105263157895, 0.5666666666666667, 'x[3] <= 33.5\\ngini = 0.35\\nsamples = 31\\nvalue = [24, 7]'),\n",
       " Text(0.6754385964912281, 0.5, 'x[3] <= 31.5\\ngini = 0.413\\nsamples = 24\\nvalue = [17, 7]'),\n",
       " Text(0.6666666666666666, 0.43333333333333335, 'x[1] <= 512.5\\ngini = 0.386\\nsamples = 23\\nvalue = [17, 6]'),\n",
       " Text(0.6578947368421053, 0.36666666666666664, 'x[0] <= 125.0\\ngini = 0.351\\nsamples = 22\\nvalue = [17, 5]'),\n",
       " Text(0.6491228070175439, 0.3, 'gini = 0.0\\nsamples = 1\\nvalue = [0, 1]'),\n",
       " Text(0.6666666666666666, 0.3, 'x[1] <= 199.5\\ngini = 0.308\\nsamples = 21\\nvalue = [17, 4]'),\n",
       " Text(0.6491228070175439, 0.23333333333333334, 'x[3] <= 27.5\\ngini = 0.444\\nsamples = 9\\nvalue = [6, 3]'),\n",
       " Text(0.6403508771929824, 0.16666666666666666, 'x[1] <= 186.5\\ngini = 0.5\\nsamples = 6\\nvalue = [3, 3]'),\n",
       " Text(0.631578947368421, 0.1, 'x[0] <= 136.5\\ngini = 0.375\\nsamples = 4\\nvalue = [3, 1]'),\n",
       " Text(0.6228070175438597, 0.03333333333333333, 'gini = 0.0\\nsamples = 3\\nvalue = [3, 0]'),\n",
       " Text(0.6403508771929824, 0.03333333333333333, 'gini = 0.0\\nsamples = 1\\nvalue = [0, 1]'),\n",
       " Text(0.6491228070175439, 0.1, 'gini = 0.0\\nsamples = 2\\nvalue = [0, 2]'),\n",
       " Text(0.6578947368421053, 0.16666666666666666, 'gini = 0.0\\nsamples = 3\\nvalue = [3, 0]'),\n",
       " Text(0.6842105263157895, 0.23333333333333334, 'x[2] <= 29.35\\ngini = 0.153\\nsamples = 12\\nvalue = [11, 1]'),\n",
       " Text(0.6754385964912281, 0.16666666666666666, 'x[1] <= 325.5\\ngini = 0.5\\nsamples = 2\\nvalue = [1, 1]'),\n",
       " Text(0.6666666666666666, 0.1, 'gini = 0.0\\nsamples = 1\\nvalue = [1, 0]'),\n",
       " Text(0.6842105263157895, 0.1, 'gini = 0.0\\nsamples = 1\\nvalue = [0, 1]'),\n",
       " Text(0.6929824561403509, 0.16666666666666666, 'gini = 0.0\\nsamples = 10\\nvalue = [10, 0]'),\n",
       " Text(0.6754385964912281, 0.36666666666666664, 'gini = 0.0\\nsamples = 1\\nvalue = [0, 1]'),\n",
       " Text(0.6842105263157895, 0.43333333333333335, 'gini = 0.0\\nsamples = 1\\nvalue = [0, 1]'),\n",
       " Text(0.6929824561403509, 0.5, 'gini = 0.0\\nsamples = 7\\nvalue = [7, 0]'),\n",
       " Text(0.75, 0.6333333333333333, 'x[3] <= 58.5\\ngini = 0.444\\nsamples = 42\\nvalue = [14, 28]'),\n",
       " Text(0.7280701754385965, 0.5666666666666667, 'x[1] <= 109.0\\ngini = 0.353\\nsamples = 35\\nvalue = [8, 27]'),\n",
       " Text(0.7105263157894737, 0.5, 'x[3] <= 44.5\\ngini = 0.475\\nsamples = 18\\nvalue = [7, 11]'),\n",
       " Text(0.7017543859649122, 0.43333333333333335, 'gini = 0.0\\nsamples = 5\\nvalue = [0, 5]'),\n",
       " Text(0.7192982456140351, 0.43333333333333335, 'x[2] <= 34.4\\ngini = 0.497\\nsamples = 13\\nvalue = [7, 6]'),\n",
       " Text(0.7105263157894737, 0.36666666666666664, 'x[0] <= 133.0\\ngini = 0.444\\nsamples = 9\\nvalue = [3, 6]'),\n",
       " Text(0.7017543859649122, 0.3, 'gini = 0.0\\nsamples = 4\\nvalue = [0, 4]'),\n",
       " Text(0.7192982456140351, 0.3, 'x[0] <= 143.0\\ngini = 0.48\\nsamples = 5\\nvalue = [3, 2]'),\n",
       " Text(0.7105263157894737, 0.23333333333333334, 'gini = 0.0\\nsamples = 2\\nvalue = [2, 0]'),\n",
       " Text(0.7280701754385965, 0.23333333333333334, 'x[1] <= 50.0\\ngini = 0.444\\nsamples = 3\\nvalue = [1, 2]'),\n",
       " Text(0.7192982456140351, 0.16666666666666666, 'gini = 0.0\\nsamples = 2\\nvalue = [0, 2]'),\n",
       " Text(0.7368421052631579, 0.16666666666666666, 'gini = 0.0\\nsamples = 1\\nvalue = [1, 0]'),\n",
       " Text(0.7280701754385965, 0.36666666666666664, 'gini = 0.0\\nsamples = 4\\nvalue = [4, 0]'),\n",
       " Text(0.7456140350877193, 0.5, 'x[1] <= 333.5\\ngini = 0.111\\nsamples = 17\\nvalue = [1, 16]'),\n",
       " Text(0.7368421052631579, 0.43333333333333335, 'gini = 0.0\\nsamples = 14\\nvalue = [0, 14]'),\n",
       " Text(0.7543859649122807, 0.43333333333333335, 'x[2] <= 32.55\\ngini = 0.444\\nsamples = 3\\nvalue = [1, 2]'),\n",
       " Text(0.7456140350877193, 0.36666666666666664, 'gini = 0.0\\nsamples = 2\\nvalue = [0, 2]'),\n",
       " Text(0.7631578947368421, 0.36666666666666664, 'gini = 0.0\\nsamples = 1\\nvalue = [1, 0]'),\n",
       " Text(0.7719298245614035, 0.5666666666666667, 'x[2] <= 36.1\\ngini = 0.245\\nsamples = 7\\nvalue = [6, 1]'),\n",
       " Text(0.7631578947368421, 0.5, 'gini = 0.0\\nsamples = 6\\nvalue = [6, 0]'),\n",
       " Text(0.7807017543859649, 0.5, 'gini = 0.0\\nsamples = 1\\nvalue = [0, 1]'),\n",
       " Text(0.8070175438596491, 0.7, 'x[3] <= 46.5\\ngini = 0.26\\nsamples = 13\\nvalue = [2, 11]'),\n",
       " Text(0.7982456140350878, 0.6333333333333333, 'x[0] <= 153.0\\ngini = 0.153\\nsamples = 12\\nvalue = [1, 11]'),\n",
       " Text(0.7894736842105263, 0.5666666666666667, 'gini = 0.0\\nsamples = 10\\nvalue = [0, 10]'),\n",
       " Text(0.8070175438596491, 0.5666666666666667, 'x[2] <= 47.2\\ngini = 0.5\\nsamples = 2\\nvalue = [1, 1]'),\n",
       " Text(0.7982456140350878, 0.5, 'gini = 0.0\\nsamples = 1\\nvalue = [1, 0]'),\n",
       " Text(0.8157894736842105, 0.5, 'gini = 0.0\\nsamples = 1\\nvalue = [0, 1]'),\n",
       " Text(0.8157894736842105, 0.6333333333333333, 'gini = 0.0\\nsamples = 1\\nvalue = [1, 0]'),\n",
       " Text(0.9046052631578947, 0.8333333333333334, 'x[2] <= 29.85\\ngini = 0.286\\nsamples = 81\\nvalue = [14, 67]'),\n",
       " Text(0.8508771929824561, 0.7666666666666667, 'x[3] <= 52.5\\ngini = 0.497\\nsamples = 13\\nvalue = [7, 6]'),\n",
       " Text(0.8421052631578947, 0.7, 'x[0] <= 174.0\\ngini = 0.444\\nsamples = 9\\nvalue = [3, 6]'),\n",
       " Text(0.8333333333333334, 0.6333333333333333, 'gini = 0.0\\nsamples = 5\\nvalue = [0, 5]'),\n",
       " Text(0.8508771929824561, 0.6333333333333333, 'x[2] <= 27.15\\ngini = 0.375\\nsamples = 4\\nvalue = [3, 1]'),\n",
       " Text(0.8421052631578947, 0.5666666666666667, 'gini = 0.0\\nsamples = 2\\nvalue = [2, 0]'),\n",
       " Text(0.8596491228070176, 0.5666666666666667, 'x[0] <= 186.0\\ngini = 0.5\\nsamples = 2\\nvalue = [1, 1]'),\n",
       " Text(0.8508771929824561, 0.5, 'gini = 0.0\\nsamples = 1\\nvalue = [0, 1]'),\n",
       " Text(0.868421052631579, 0.5, 'gini = 0.0\\nsamples = 1\\nvalue = [1, 0]'),\n",
       " Text(0.8596491228070176, 0.7, 'gini = 0.0\\nsamples = 4\\nvalue = [4, 0]'),\n",
       " Text(0.9583333333333334, 0.7666666666666667, 'x[2] <= 45.95\\ngini = 0.185\\nsamples = 68\\nvalue = [7, 61]'),\n",
       " Text(0.9342105263157895, 0.7, 'x[1] <= 661.5\\ngini = 0.121\\nsamples = 62\\nvalue = [4, 58]'),\n",
       " Text(0.9122807017543859, 0.6333333333333333, 'x[3] <= 49.5\\ngini = 0.095\\nsamples = 60\\nvalue = [3, 57]'),\n",
       " Text(0.8947368421052632, 0.5666666666666667, 'x[3] <= 36.5\\ngini = 0.041\\nsamples = 48\\nvalue = [1, 47]'),\n",
       " Text(0.8859649122807017, 0.5, 'gini = 0.0\\nsamples = 32\\nvalue = [0, 32]'),\n",
       " Text(0.9035087719298246, 0.5, 'x[3] <= 37.5\\ngini = 0.117\\nsamples = 16\\nvalue = [1, 15]'),\n",
       " Text(0.8947368421052632, 0.43333333333333335, 'x[1] <= 112.5\\ngini = 0.5\\nsamples = 2\\nvalue = [1, 1]'),\n",
       " Text(0.8859649122807017, 0.36666666666666664, 'gini = 0.0\\nsamples = 1\\nvalue = [1, 0]'),\n",
       " Text(0.9035087719298246, 0.36666666666666664, 'gini = 0.0\\nsamples = 1\\nvalue = [0, 1]'),\n",
       " Text(0.9122807017543859, 0.43333333333333335, 'gini = 0.0\\nsamples = 14\\nvalue = [0, 14]'),\n",
       " Text(0.9298245614035088, 0.5666666666666667, 'x[3] <= 50.5\\ngini = 0.278\\nsamples = 12\\nvalue = [2, 10]'),\n",
       " Text(0.9210526315789473, 0.5, 'gini = 0.0\\nsamples = 1\\nvalue = [1, 0]'),\n",
       " Text(0.9385964912280702, 0.5, 'x[2] <= 34.45\\ngini = 0.165\\nsamples = 11\\nvalue = [1, 10]'),\n",
       " Text(0.9298245614035088, 0.43333333333333335, 'x[2] <= 33.95\\ngini = 0.32\\nsamples = 5\\nvalue = [1, 4]'),\n",
       " Text(0.9210526315789473, 0.36666666666666664, 'gini = 0.0\\nsamples = 4\\nvalue = [0, 4]'),\n",
       " Text(0.9385964912280702, 0.36666666666666664, 'gini = 0.0\\nsamples = 1\\nvalue = [1, 0]'),\n",
       " Text(0.9473684210526315, 0.43333333333333335, 'gini = 0.0\\nsamples = 6\\nvalue = [0, 6]'),\n",
       " Text(0.956140350877193, 0.6333333333333333, 'x[2] <= 33.4\\ngini = 0.5\\nsamples = 2\\nvalue = [1, 1]'),\n",
       " Text(0.9473684210526315, 0.5666666666666667, 'gini = 0.0\\nsamples = 1\\nvalue = [0, 1]'),\n",
       " Text(0.9649122807017544, 0.5666666666666667, 'gini = 0.0\\nsamples = 1\\nvalue = [1, 0]'),\n",
       " Text(0.9824561403508771, 0.7, 'x[1] <= 177.5\\ngini = 0.5\\nsamples = 6\\nvalue = [3, 3]'),\n",
       " Text(0.9736842105263158, 0.6333333333333333, 'gini = 0.0\\nsamples = 3\\nvalue = [0, 3]'),\n",
       " Text(0.9912280701754386, 0.6333333333333333, 'gini = 0.0\\nsamples = 3\\nvalue = [3, 0]')]"
      ]
     },
     "execution_count": 60,
     "metadata": {},
     "output_type": "execute_result"
    },
    {
     "data": {
      "image/png": "[encoded data removed]",
      "text/plain": [
       "<Figure size 640x480 with 1 Axes>"
      ]
     },
     "metadata": {},
     "output_type": "display_data"
    }
   ],
   "source": [
    "plot_tree(arbol)"
   ]
  },
  {
   "cell_type": "code",
   "execution_count": 61,
   "id": "97cff783",
   "metadata": {},
   "outputs": [],
   "source": [
    "predicciones = arbol.predict(X_test)"
   ]
  },
  {
   "cell_type": "code",
   "execution_count": 62,
   "id": "1a97d932",
   "metadata": {},
   "outputs": [
    {
     "data": {
      "text/html": [
       "<div>\n",
       "<style scoped>\n",
       "    .dataframe tbody tr th:only-of-type {\n",
       "        vertical-align: middle;\n",
       "    }\n",
       "\n",
       "    .dataframe tbody tr th {\n",
       "        vertical-align: top;\n",
       "    }\n",
       "\n",
       "    .dataframe thead th {\n",
       "        text-align: right;\n",
       "    }\n",
       "</style>\n",
       "<table border=\"1\" class=\"dataframe\">\n",
       "  <thead>\n",
       "    <tr style=\"text-align: right;\">\n",
       "      <th>predicciones</th>\n",
       "      <th>0</th>\n",
       "      <th>1</th>\n",
       "    </tr>\n",
       "    <tr>\n",
       "      <th>Actual</th>\n",
       "      <th></th>\n",
       "      <th></th>\n",
       "    </tr>\n",
       "  </thead>\n",
       "  <tbody>\n",
       "    <tr>\n",
       "      <th>0</th>\n",
       "      <td>91</td>\n",
       "      <td>31</td>\n",
       "    </tr>\n",
       "    <tr>\n",
       "      <th>1</th>\n",
       "      <td>30</td>\n",
       "      <td>40</td>\n",
       "    </tr>\n",
       "  </tbody>\n",
       "</table>\n",
       "</div>"
      ],
      "text/plain": [
       "predicciones   0   1\n",
       "Actual              \n",
       "0             91  31\n",
       "1             30  40"
      ]
     },
     "execution_count": 62,
     "metadata": {},
     "output_type": "execute_result"
    }
   ],
   "source": [
    "pd.crosstab(np.array([y[0] for y in y_test.values.tolist()]), predicciones, rownames = ['Actual'], colnames = ['predicciones'])"
   ]
  },
  {
   "cell_type": "code",
   "execution_count": 63,
   "id": "4110f568",
   "metadata": {},
   "outputs": [
    {
     "data": {
      "text/plain": [
       "0.6822916666666666"
      ]
     },
     "execution_count": 63,
     "metadata": {},
     "output_type": "execute_result"
    }
   ],
   "source": [
    "accuracy = accuracy_score(y_test, predicciones)\n",
    "accuracy"
   ]
  },
  {
   "cell_type": "code",
   "execution_count": null,
   "id": "e7ea0f39",
   "metadata": {},
   "outputs": [],
   "source": []
  }
 ],
 "metadata": {
  "kernelspec": {
   "display_name": "Python 3 (ipykernel)",
   "language": "python",
   "name": "python3"
  },
  "language_info": {
   "codemirror_mode": {
    "name": "ipython",
    "version": 3
   },
   "file_extension": ".py",
   "mimetype": "text/x-python",
   "name": "python",
   "nbconvert_exporter": "python",
   "pygments_lexer": "ipython3",
   "version": "3.10.9"
  }
 },
 "nbformat": 4,
 "nbformat_minor": 5
}
